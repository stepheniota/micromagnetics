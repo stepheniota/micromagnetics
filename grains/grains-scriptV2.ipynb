{
 "cells": [
  {
   "cell_type": "code",
   "execution_count": 21,
   "metadata": {},
   "outputs": [],
   "source": [
    "## Autogenerate graining in mumax\n",
    "## Stephen Iota\n",
    "import os\n",
    "import numpy as np"
   ]
  },
  {
   "cell_type": "code",
   "execution_count": 22,
   "metadata": {},
   "outputs": [
    {
     "name": "stdout",
     "output_type": "stream",
     "text": [
      "Enter top material: \n",
      "py\n",
      "py\n",
      "Enter top material MSat: \n",
      "22\n",
      "Enter top material AEx: \n",
      "33\n",
      "Enter bottom material: \n",
      "yig\n",
      "Enter bottom material MSat: \n",
      "66\n",
      "Enter bottom material Aex: \n",
      "77\n",
      "Number of regions: 130\n"
     ]
    }
   ],
   "source": [
    "## Materials\n",
    "print(\"Enter top material: \")\n",
    "top = input()\n",
    "print(top)\n",
    "print(\"Enter top material MSat: \")\n",
    "top_msat = input()\n",
    "print(\"Enter top material AEx: \")\n",
    "top_aex = input()\n",
    "\n",
    "print(\"Enter bottom material: \")\n",
    "bottom = input()\n",
    "print(\"Enter bottom material MSat: \")\n",
    "bottom_msat = input()\n",
    "print(\"Enter bottom material Aex: \")\n",
    "bottom_aex = input()\n",
    "\n",
    "## Number of grids\n",
    "#print(\"Enter number of material regions (num-2 must be a factor of 1024): \")\n",
    "#num_regions = int(input())\n",
    "num_regions = 130\n",
    "print(\"Number of regions: \" + str(num_regions))"
   ]
  },
  {
   "cell_type": "code",
   "execution_count": 36,
   "metadata": {},
   "outputs": [],
   "source": [
    "## Class Definitions for mumax Regions\n",
    "class mumax_region:\n",
    "    \n",
    "    alphaFree = \"alphaFree\"\n",
    "    \n",
    "    def __init__(self, RegionNumber, RegionName, MSat, AEx, Position=\"pos\"):\n",
    "        self.name = RegionName\n",
    "        self.index = RegionNumber\n",
    "        self.aex = AEx\n",
    "        self.msat = MSat\n",
    "        #self.pos = Position"
   ]
  },
  {
   "cell_type": "code",
   "execution_count": 37,
   "metadata": {},
   "outputs": [],
   "source": [
    "## Initialize Different Regions in mumax\n",
    "my_regions = []\n",
    "\n",
    "for i in range(num_regions):\n",
    "    if i < num_regions/2:\n",
    "        my_regions.append(mumax_region(i, top + str(i) + \"_cuboid\", top_msat, top_aex))\n",
    "    else:\n",
    "        my_regions.append(mumax_region(i, bottom + str(i) + \"_cuboid\", bottom_msat,bottom_aex))"
   ]
  },
  {
   "cell_type": "code",
   "execution_count": 45,
   "metadata": {},
   "outputs": [],
   "source": [
    "## Positions of regions\n",
    "dims = (num_regions-2)/2\n",
    "for i in range(num_regions):\n",
    "    \n",
    "    if i == 0:\n",
    "        my_regions[i].pos = my_regions[i].name + \" := cuboid(length,width,t_\" + top + \").transl(0,0,(thickness/2-(1/2)*t_\"+ top + \"))\\n\"\n",
    "    \n",
    "    elif i == num_regions - 1:\n",
    "        my_regions[i].pos = my_regions[i].name + \" := cuboid(length,width,t_\" + bottom + \").transl(0,0,-(thickness/2-(1/2)*t_\"+ bottom + \"))\\n\"\n",
    "    \n",
    "    ## top; odd index --> -y-axis\n",
    "    elif i < num_regions/2 and i % 2 != 0:\n",
    "        my_regions[i].pos = my_regions[i].name + \" := cuboid(length/\" + str(dims) +  \" , \" + \"width/\" + str(dims) + \", Zz).transl(length/2 - length/\" + str(2*dims) +  \",-width/4,zz)\\n\"\n",
    "        \n",
    "    ## top; even index --> +y-axis\n",
    "    elif i < num_regions/2:\n",
    "        my_regions[i].pos = my_regions[i].name + \" := cuboid(length/\"+ str(dims) +  \" , \" + \"width/\" + str(dims) + \", Zz).transl(length/2 - length/\" + str(dims*2) + \",width/4,zz)\\n\"\n",
    "    \n",
    "    # bot; odd index --> -y-axis\n",
    "    elif i < num_regions -1 and i % 2 != 0:\n",
    "        my_regions[i].pos = my_regions[i].name + \" := cuboid(length/\"+ str(dims) +  \" , \" + \"width/\" + str(dims) + \", Zz).transl(length/2 - length/\" + str(dims*2) + \",-width/4,0)\\n\"\n",
    "        \n",
    "    ## bot; even index --> +y-axis\n",
    "    elif i < num_regions - 1:\n",
    "        my_regions[i].pos = my_regions[i].name + \" := cuboid(length/\"+ str(dims) +  \" , \" + \"width/\" + str(dims) + \", Zz).transl(length/2 - length/\" + str(dims*2) + \",width/4,0)\\n\""
   ]
  },
  {
   "cell_type": "code",
   "execution_count": null,
   "metadata": {},
   "outputs": [],
   "source": [
    "## Print Statements"
   ]
  }
 ],
 "metadata": {
  "kernelspec": {
   "display_name": "Python 3",
   "language": "python",
   "name": "python3"
  },
  "language_info": {
   "codemirror_mode": {
    "name": "ipython",
    "version": 3
   },
   "file_extension": ".py",
   "mimetype": "text/x-python",
   "name": "python",
   "nbconvert_exporter": "python",
   "pygments_lexer": "ipython3",
   "version": "3.6.4"
  }
 },
 "nbformat": 4,
 "nbformat_minor": 2
}
