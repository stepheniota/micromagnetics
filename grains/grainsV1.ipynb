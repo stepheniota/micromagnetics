{
 "cells": [
  {
   "cell_type": "code",
   "execution_count": 1,
   "metadata": {},
   "outputs": [],
   "source": [
    "## Autogenerate graining in mumax\n",
    "## Stephen Iota\n",
    "import os\n",
    "import numpy as np"
   ]
  },
  {
   "cell_type": "code",
   "execution_count": 2,
   "metadata": {},
   "outputs": [
    {
     "name": "stdout",
     "output_type": "stream",
     "text": [
      "Enter top material: \n",
      "py\n",
      "py\n",
      "Enter top material MSat: \n",
      "22\n",
      "Enter top material AEx: \n",
      "33\n",
      "Enter bottom material: \n",
      "yig\n",
      "Enter bottom material MSat: \n",
      "11\n",
      "Enter bottom material Aex: \n",
      "44\n",
      "Number of regions: 130\n"
     ]
    }
   ],
   "source": [
    "## Materials\n",
    "print(\"Enter top material: \")\n",
    "top = input()\n",
    "print(top)\n",
    "print(\"Enter top material MSat: \")\n",
    "top_msat = input()\n",
    "print(\"Enter top material AEx: \")\n",
    "top_aex = input()\n",
    "\n",
    "print(\"Enter bottom material: \")\n",
    "bottom = input()\n",
    "print(\"Enter bottom material MSat: \")\n",
    "bottom_msat = input()\n",
    "print(\"Enter bottom material Aex: \")\n",
    "bottom_aex = input()\n",
    "\n",
    "## Number of grids\n",
    "#print(\"Enter number of material regions (num-2 must be a factor of 1024): \")\n",
    "#num_regions = int(input())\n",
    "num_regions = 130\n",
    "print(\"Number of regions: \" + str(num_regions))"
   ]
  },
  {
   "cell_type": "code",
   "execution_count": 3,
   "metadata": {
    "scrolled": true
   },
   "outputs": [
    {
     "name": "stdout",
     "output_type": "stream",
     "text": [
      "['py0_cuboid', 'py1_cuboid', 'py2_cuboid', 'py3_cuboid', 'py4_cuboid', 'py5_cuboid', 'py6_cuboid', 'py7_cuboid', 'py8_cuboid', 'py9_cuboid', 'py10_cuboid', 'py11_cuboid', 'py12_cuboid', 'py13_cuboid', 'py14_cuboid', 'py15_cuboid', 'py16_cuboid', 'py17_cuboid', 'py18_cuboid', 'py19_cuboid', 'py20_cuboid', 'py21_cuboid', 'py22_cuboid', 'py23_cuboid', 'py24_cuboid', 'py25_cuboid', 'py26_cuboid', 'py27_cuboid', 'py28_cuboid', 'py29_cuboid', 'py30_cuboid', 'py31_cuboid', 'py32_cuboid', 'py33_cuboid', 'py34_cuboid', 'py35_cuboid', 'py36_cuboid', 'py37_cuboid', 'py38_cuboid', 'py39_cuboid', 'py40_cuboid', 'py41_cuboid', 'py42_cuboid', 'py43_cuboid', 'py44_cuboid', 'py45_cuboid', 'py46_cuboid', 'py47_cuboid', 'py48_cuboid', 'py49_cuboid', 'py50_cuboid', 'py51_cuboid', 'py52_cuboid', 'py53_cuboid', 'py54_cuboid', 'py55_cuboid', 'py56_cuboid', 'py57_cuboid', 'py58_cuboid', 'py59_cuboid', 'py60_cuboid', 'py61_cuboid', 'py62_cuboid', 'py63_cuboid', 'py64_cuboid', 'yig65_cuboid', 'yig66_cuboid', 'yig67_cuboid', 'yig68_cuboid', 'yig69_cuboid', 'yig70_cuboid', 'yig71_cuboid', 'yig72_cuboid', 'yig73_cuboid', 'yig74_cuboid', 'yig75_cuboid', 'yig76_cuboid', 'yig77_cuboid', 'yig78_cuboid', 'yig79_cuboid', 'yig80_cuboid', 'yig81_cuboid', 'yig82_cuboid', 'yig83_cuboid', 'yig84_cuboid', 'yig85_cuboid', 'yig86_cuboid', 'yig87_cuboid', 'yig88_cuboid', 'yig89_cuboid', 'yig90_cuboid', 'yig91_cuboid', 'yig92_cuboid', 'yig93_cuboid', 'yig94_cuboid', 'yig95_cuboid', 'yig96_cuboid', 'yig97_cuboid', 'yig98_cuboid', 'yig99_cuboid', 'yig100_cuboid', 'yig101_cuboid', 'yig102_cuboid', 'yig103_cuboid', 'yig104_cuboid', 'yig105_cuboid', 'yig106_cuboid', 'yig107_cuboid', 'yig108_cuboid', 'yig109_cuboid', 'yig110_cuboid', 'yig111_cuboid', 'yig112_cuboid', 'yig113_cuboid', 'yig114_cuboid', 'yig115_cuboid', 'yig116_cuboid', 'yig117_cuboid', 'yig118_cuboid', 'yig119_cuboid', 'yig120_cuboid', 'yig121_cuboid', 'yig122_cuboid', 'yig123_cuboid', 'yig124_cuboid', 'yig125_cuboid', 'yig126_cuboid', 'yig127_cuboid', 'yig128_cuboid', 'yig129_cuboid']\n"
     ]
    }
   ],
   "source": [
    "## Create region names\n",
    "region_names = []\n",
    "for i in range(num_regions):\n",
    "    if i < num_regions/2:\n",
    "        region_names.append(top + str(i) + \"_cuboid\")\n",
    "    else:\n",
    "        region_names.append(bottom + str(i) + \"_cuboid\")\n",
    "print(region_names)"
   ]
  },
  {
   "cell_type": "code",
   "execution_count": 12,
   "metadata": {},
   "outputs": [],
   "source": [
    "## Variables for shape definition\n",
    "dims = (num_regions-2)/2\n",
    "# create/edit script\n",
    "script = open(\"mumax-script.txt\",\"w\")\n",
    "script.write(\"// Variables for shape definition \\n\")\n",
    "for i in range(num_regions):\n",
    "    if i == 0:\n",
    "        my_string = region_names[i] + \" := cuboid(length,width,t_\" + top + \").transl(0,0,(thickness/2-(1/2)*t_\"+ top + \"))\\n\"\n",
    "        script.write(my_string)\n",
    "    ## top; odd index --> -y-axis\n",
    "    elif i < num_regions/2 and i % 2 != 0:\n",
    "        my_string = region_names[i] + \" := cuboid(length/\" + str(dims) +  \" , \" + \"width/\" + str(dims) + \", Zz).transl(length/2 - length/\" + str(2*dims) +  \",-width/4,zz)\\n\"\n",
    "        script.write(my_string)\n",
    "    ## top; even index --> +y-axis\n",
    "    elif i < num_regions/2:\n",
    "        my_string = region_names[i] + \" := cuboid(length/\"+ str(dims) +  \" , \" + \"width/\" + str(dims) + \", Zz).transl(length/2 - length/\" + str(dims*2) + \",width/4,zz)\\n\"\n",
    "        script.write(my_string)\n",
    "    # bot; odd index --> -y-axis\n",
    "    elif i < num_regions -1 and i % 2 != 0:\n",
    "        my_string = region_names[i] + \" := cuboid(length/\"+ str(dims) +  \" , \" + \"width/\" + str(dims) + \", Zz).transl(length/2 - length/\" + str(dims*2) + \",-width/4,0)\\n\"\n",
    "        script.write(my_string)\n",
    "    ## bot; even index --> +y-axis\n",
    "    elif i < num_regions - 1:\n",
    "        my_string = region_names[i] + \" := cuboid(length/\"+ str(dims) +  \" , \" + \"width/\" + str(dims) + \", Zz).transl(length/2 - length/\" + str(dims*2) + \",width/4,0)\\n\"\n",
    "        script.write(my_string)\n",
    "    else:\n",
    "        my_string = region_names[i] + \" := cuboid(length,width,t_\" + bottom + \").transl(0,0,-(thickness/2-(1/2)*t_\"+ bottom + \"))\\n\"\n",
    "        script.write(my_string)\n",
    "script.close()"
   ]
  },
  {
   "cell_type": "code",
   "execution_count": 18,
   "metadata": {},
   "outputs": [],
   "source": [
    "# Define Regions\n",
    "script = open(\"mumax-script.txt\",\"a\")\n",
    "script.write(\"\\n// Define Regions\\n\")\n",
    "\n",
    "for i in range(num_regions):\n",
    "    script.write(\"DefRegion.(\" + str(i) + \",\" + str(region_names[i]) + \")\\n\")\n",
    "script.close()"
   ]
  },
  {
   "cell_type": "code",
   "execution_count": 15,
   "metadata": {},
   "outputs": [],
   "source": [
    "# Set MSat & Aex\n",
    "script = open(\"mumax-script.txt\",\"a\")\n",
    "\n",
    "script.write(\"\\n// Material Parameters\\n\")\n",
    "\n",
    "for i in range(num_regions):\n",
    "        if i < num_regions/2:\n",
    "            script.write(\"MSat.SetRegion(\"+str(i)+\",\" + str(top_msat) + \")\")\n",
    "            script.write(\"Aex.SetRegion(\"+str(i)+\",\" + str(top_aex) + \")\")\n",
    "        else:\n",
    "            script.write(\"MSat.SetRegion(i,\" + str(bottom_msat) + \")\")\n",
    "            script.write(\"Aex.SetRegion(i,\" + str(bottom_aex) + \")\")\n",
    "\n",
    "script.close()"
   ]
  },
  {
   "cell_type": "code",
   "execution_count": null,
   "metadata": {},
   "outputs": [],
   "source": [
    "## Interlayer Exchange\n",
    "\n",
    "script.open(\"mumax-script.txt\",\"a\")\n",
    "\n",
    "script.write(\"\\n //Interlayer Exchange\\n\")\n"
   ]
  },
  {
   "cell_type": "code",
   "execution_count": 20,
   "metadata": {},
   "outputs": [
    {
     "ename": "NameError",
     "evalue": "name 'register' is not defined",
     "output_type": "error",
     "traceback": [
      "\u001b[0;31m---------------------------------------------------------------------------\u001b[0m",
      "\u001b[0;31mNameError\u001b[0m                                 Traceback (most recent call last)",
      "\u001b[0;32m<ipython-input-20-090e698c4bc5>\u001b[0m in \u001b[0;36m<module>\u001b[0;34m()\u001b[0m\n\u001b[0;32m----> 1\u001b[0;31m \u001b[0mregister\u001b[0m\u001b[0;34m(\u001b[0m\u001b[0;34m)\u001b[0m\u001b[0;34m\u001b[0m\u001b[0m\n\u001b[0m",
      "\u001b[0;31mNameError\u001b[0m: name 'register' is not defined"
     ]
    }
   ],
   "source": [
    "register()"
   ]
  },
  {
   "cell_type": "code",
   "execution_count": null,
   "metadata": {},
   "outputs": [],
   "source": []
  }
 ],
 "metadata": {
  "kernelspec": {
   "display_name": "Python 3",
   "language": "python",
   "name": "python3"
  },
  "language_info": {
   "codemirror_mode": {
    "name": "ipython",
    "version": 3
   },
   "file_extension": ".py",
   "mimetype": "text/x-python",
   "name": "python",
   "nbconvert_exporter": "python",
   "pygments_lexer": "ipython3",
   "version": "3.6.4"
  }
 },
 "nbformat": 4,
 "nbformat_minor": 2
}
