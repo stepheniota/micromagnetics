{
 "cells": [
  {
   "cell_type": "code",
   "execution_count": 1,
   "metadata": {},
   "outputs": [],
   "source": [
    "## Autogenerate graining in mumax\n",
    "## Stephen Iota\n",
    "import os\n",
    "import numpy as np"
   ]
  },
  {
   "cell_type": "code",
   "execution_count": 2,
   "metadata": {},
   "outputs": [
    {
     "name": "stdout",
     "output_type": "stream",
     "text": [
      "Enter top material: \n",
      "py\n",
      "py\n",
      "Enter top material MSat: \n",
      "44\n",
      "Enter top material AEx: \n",
      "33\n",
      "Enter bottom material: \n",
      "yig\n",
      "Enter bottom material MSat: \n",
      "99\n",
      "Enter bottom material Aex: \n",
      "98\n",
      "Number of regions: 130\n"
     ]
    }
   ],
   "source": [
    "## Materials\n",
    "print(\"Enter top material: \")\n",
    "top = input()\n",
    "print(top)\n",
    "print(\"Enter top material MSat: \")\n",
    "top_msat = float(input())\n",
    "print(\"Enter top material AEx: \")\n",
    "top_aex = float(input())\n",
    "\n",
    "print(\"Enter bottom material: \")\n",
    "bottom = str(input())\n",
    "print(\"Enter bottom material MSat: \")\n",
    "bottom_msat = float(input())\n",
    "print(\"Enter bottom material Aex: \")\n",
    "bottom_aex = float(input())\n",
    "\n",
    "## Number of grids\n",
    "#print(\"Enter number of material regions (num-2 must be a factor of 1024): \")\n",
    "#num_regions = int(input())\n",
    "num_regions = int(130)\n",
    "print(\"Number of regions: \" + str(num_regions))"
   ]
  },
  {
   "cell_type": "code",
   "execution_count": 3,
   "metadata": {},
   "outputs": [],
   "source": [
    "## Class Definitions for mumax Regions\n",
    "class mumax_region:\n",
    "    \n",
    "    alpha = \"alphaFree\"\n",
    "    \n",
    "    def __init__(self, RegionNumber, RegionName='name', MSat=0.0, AEx=0.0, Shape=\"cuboid\"):\n",
    "        self.name = RegionName\n",
    "        self.index = RegionNumber\n",
    "        self.aex = AEx\n",
    "        self.msat = MSat\n",
    "        self.shape = Shape"
   ]
  },
  {
   "cell_type": "code",
   "execution_count": 4,
   "metadata": {},
   "outputs": [],
   "source": [
    "## Initialize Different Regions in mumax\n",
    "my_regions = []\n",
    "\n",
    "for i in range(num_regions):\n",
    "    if i < num_regions/2:\n",
    "        my_regions.append(mumax_region(i))\n",
    "        my_regions[i].name = top + \"{}_cuboid\".format(i)\n",
    "        my_regions[i].aex = top_aex\n",
    "        my_regions[i].msat = top_msat\n",
    "    else:\n",
    "        my_regions.append(mumax_region(i))\n",
    "        my_regions[i].name = bottom + \"{}_cuboid\".format(i)\n",
    "        my_regions[i].aex = bottom_aex\n",
    "        my_regions[i].msat = bottom_msat"
   ]
  },
  {
   "cell_type": "code",
   "execution_count": 9,
   "metadata": {},
   "outputs": [],
   "source": [
    "##########################\n",
    "## Positions of regions ##\n",
    "##########################\n",
    "size = (num_regions-2)/2\n",
    "\n",
    "## top most layer\n",
    "my_regions[0].pos = \"{} := cuboid(length,width,t_{}).transl(0,0,thickness/2 - t_{}/4)\\n\".format(my_regions[0].name,top,top)\n",
    "\n",
    "## bottom most layer\n",
    "my_regions[num_regions-1].pos = \"{} := cuboid(length,width,t_{}).transl(0,0,- thickness/2 + t_{}/3)\\n\".format(my_regions[num_regions-1].name,bottom,bottom)\n",
    "\n",
    "## top grains, +x\n",
    "j = 1\n",
    "for i in range(1,int(num_regions/4)):\n",
    "    my_regions[i].pos = \"{} := cuboid(length/{},width/{},Zz).transl(length/2 - {}*length/(2*{}),width/2,Zz/2)\\n\".format(my_regions[i].name,size,size,j,size  )\n",
    "    j = j + 2\n",
    "    \n",
    "## top grains, -x\n",
    "j = 1\n",
    "for i in range(int(num_regions/4),int(num_regions/2)):\n",
    "    my_regions[i].pos = \"{} := cuboid(length/{},width/{},Zz).transl(length/2 - {}*length/(2*{}),-width/2,Zz/2)\\n\".format(my_regions[i].name,size,size,j,size  )\n",
    "    j = j + 2\n",
    "    \n",
    "## bottom grains, +x\n",
    "j = 1\n",
    "for i in range(int(num_regions/2),int(3*num_regions/4)):\n",
    "    my_regions[i].pos = \"{} := cuboid(length/{},width/{},Zz).transl(length/2 - {}*length/(2*{}),width/2,-Zz/2)\\n\".format(my_regions[i].name,size,size,j,size  )\n",
    "    j = j + 2    \n",
    "    \n",
    "## bottom grains, -x\n",
    "j = 1\n",
    "for i in range(int(3*num_regions/4),int(num_regions)):\n",
    "    my_regions[i].pos = \"{} := cuboid(length/{},-width/{},Zz).transl(length/2 - {}*length/(2*{}),width/2,-Zz/2)\\n\".format(my_regions[i].name,size,size,j,size  )\n",
    "    j = j + 2   "
   ]
  },
  {
   "cell_type": "code",
   "execution_count": 7,
   "metadata": {},
   "outputs": [
    {
     "name": "stdout",
     "output_type": "stream",
     "text": [
      "For interlayer Exchange\n",
      "\n",
      "Enter mean: \n",
      ".06\n",
      "Enter std: \n",
      ".2\n"
     ]
    }
   ],
   "source": [
    "## Interlayer Exchange\n",
    "print(\"For interlayer Exchange\\n\")\n",
    "print(\"Enter mean: \")\n",
    "mean = float(input())\n",
    "print(\"Enter std: \")\n",
    "std = float(input())\n",
    "length = num_regions/2\n",
    "\n",
    "## generate normal distribution\n",
    "exchanges = np.random.normal(loc=mean,scale=std,size=length)\n",
    "#print(exchanges)"
   ]
  },
  {
   "cell_type": "code",
   "execution_count": 8,
   "metadata": {},
   "outputs": [],
   "source": [
    "## Print Statements\n",
    "\n",
    "script = open(\"mumax-script.txt\",\"w\")\n",
    "\n",
    "## Variables for Shape Definition\n",
    "script.write(\"// Variables for Shape Definition\\n\")\n",
    "for i in range(num_regions):\n",
    "    shape = \"{} := {}\\n\".format(my_regions[i].name,my_regions[i].shape)\n",
    "    script.write(shape)\n",
    "script.write(\"\\n\")\n",
    "\n",
    "## Set Geometry\n",
    "script.write(\"//Set Geometry\\n\")\n",
    "geom = \"SetGeom(\"\n",
    "for i in range(num_regions-1):\n",
    "    geom += my_regions[i].name + \".add(\"\n",
    "geom += my_regions[num_regions-1].name\n",
    "geom += (num_regions+1)*\")\" + (\"\\n \\n\")\n",
    "script.write(geom)\n",
    "script.write(\"\\n \\n\")\n",
    "\n",
    "## Define Regions\n",
    "script.write(\"//Define Regions\\n\")\n",
    "for i in range(num_regions):\n",
    "    region = \"DefRegion({},{})\\n\".format(my_regions[i].name,my_regions[i].index)\n",
    "    script.write(region)\n",
    "script.write(\"\\n \\n\")\n",
    "\n",
    "## Material Parameters\n",
    "script.write(\"\\n //Material Parameters \\n\")\n",
    "for i in range(num_regions):\n",
    "    mat_param = \"Msat.SetRegion({},{}) //{}\\n\".format(my_regions[i].index,my_regions[i].msat,my_regions[i].name)\n",
    "    script.write(mat_param)\n",
    "    aex_param = \"Aex.SetRegion({},{}) //{}\\n\".format(my_regions[i].index,my_regions[i].aex,my_regions[i].name)\n",
    "    script.write(aex_param)\n",
    "    \n",
    "    \n",
    "## Alpha\n",
    "script.write(\"\\n\\\\Set Alpha \\n\")\n",
    "for i in range(num_regions):\n",
    "    my_alph = \"alpha.SetRegion({},{})\\n\".format(my_regions[i].name,my_regions[i].alpha)\n",
    "    script.write(my_alph)\n",
    "    \n",
    "## Interlayer Exchange\n",
    "script.write(\"\\n\\\\Manipulate Interlayer Exchange\\n\")    \n",
    "for i in range(1,int(num_regions/2)):\n",
    "    #int_ext1 = \"ext_ScaleExchange({},{},{})\\n\".format(my_regions[i].index,my_regions[i+1].index,exchanges[i])\n",
    "    int_ext2 = \"ext_ScaleExchange({},{},{})\\n\".format(my_regions[i].index,my_regions[i+int(num_regions/2)].index,exchanges[i])\n",
    "    script.write(int_ext1 + int_ext2)\n",
    "script.close()"
   ]
  },
  {
   "cell_type": "code",
   "execution_count": null,
   "metadata": {},
   "outputs": [],
   "source": []
  }
 ],
 "metadata": {
  "kernelspec": {
   "display_name": "Python 3",
   "language": "python",
   "name": "python3"
  },
  "language_info": {
   "codemirror_mode": {
    "name": "ipython",
    "version": 3
   },
   "file_extension": ".py",
   "mimetype": "text/x-python",
   "name": "python",
   "nbconvert_exporter": "python",
   "pygments_lexer": "ipython3",
   "version": "3.6.4"
  }
 },
 "nbformat": 4,
 "nbformat_minor": 2
}
