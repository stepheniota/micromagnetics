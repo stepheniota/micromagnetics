{
 "cells": [
  {
   "cell_type": "code",
   "execution_count": 3,
   "metadata": {},
   "outputs": [],
   "source": [
    "import numpy as np"
   ]
  },
  {
   "cell_type": "code",
   "execution_count": 54,
   "metadata": {},
   "outputs": [],
   "source": [
    "num_fields = 5\n",
    "\n",
    "x = np.random.randint(1,5,size=(num_fields+1,3))\n",
    "x[0] = 0"
   ]
  },
  {
   "cell_type": "code",
   "execution_count": 55,
   "metadata": {},
   "outputs": [],
   "source": [
    "mirror = np.zeros([2*num_fields+1,3])\n",
    "negative = x[1:][::-1]\n",
    "#negative = negative[::-1]\n",
    "mirror[:num_fields] = negative\n",
    "mirror[num_fields:] = x"
   ]
  },
  {
   "cell_type": "code",
   "execution_count": 56,
   "metadata": {},
   "outputs": [
    {
     "name": "stdout",
     "output_type": "stream",
     "text": [
      "[[2. 2. 4. 3. 2. 0. 2. 3. 4. 2. 2.]\n",
      " [2. 1. 2. 2. 2. 0. 2. 2. 2. 1. 2.]\n",
      " [3. 4. 4. 2. 4. 0. 4. 2. 4. 4. 3.]]\n",
      "[[0 2 3 4 2 2]\n",
      " [0 2 2 2 1 2]\n",
      " [0 4 2 4 4 3]]\n"
     ]
    }
   ],
   "source": [
    "print(mirror.T)\n",
    "\n",
    "print(x.T)"
   ]
  },
  {
   "cell_type": "code",
   "execution_count": null,
   "metadata": {},
   "outputs": [],
   "source": []
  }
 ],
 "metadata": {
  "kernelspec": {
   "display_name": "Python 3",
   "language": "python",
   "name": "python3"
  },
  "language_info": {
   "codemirror_mode": {
    "name": "ipython",
    "version": 3
   },
   "file_extension": ".py",
   "mimetype": "text/x-python",
   "name": "python",
   "nbconvert_exporter": "python",
   "pygments_lexer": "ipython3",
   "version": "3.6.4"
  }
 },
 "nbformat": 4,
 "nbformat_minor": 2
}
